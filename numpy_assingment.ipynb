{
 "cells": [
  {
   "cell_type": "markdown",
   "metadata": {},
   "source": [
    "Write a function so that the columns of the output matrix are powers of the input vector.\n",
    "\n",
    "The order of the powers is determined by the increasing boolean argument. Specifically, when increasing is False, the i-th output column is the input vector raised element-wise to the power of N - i - 1.\n",
    "\n",
    "HINT: Such a matrix with a geometric progression in each row is named for AlexandreTheophile Vandermonde."
   ]
  },
  {
   "cell_type": "code",
   "execution_count": 19,
   "metadata": {},
   "outputs": [
    {
     "name": "stdout",
     "output_type": "stream",
     "text": [
      "--------------------increasing--------------------\n",
      "[[ 1  1  1  1]\n",
      " [ 1  2  4  8]\n",
      " [ 1  3  9 27]]\n",
      "--------------------decreasing--------------------\n",
      "[[ 1  1  1  1]\n",
      " [ 8  4  2  1]\n",
      " [27  9  3  1]]\n"
     ]
    }
   ],
   "source": [
    "import numpy as np\n",
    "\n",
    "def aVandermonde(l, N, increasing = True):\n",
    "    if increasing:\n",
    "        print(np.array([ j** i for j in l for i in range(N)]).reshape(len(l), N))\n",
    "    else:\n",
    "        print(np.array([ j** (N-1-i) for j in l for i in range(N)]).reshape(len(l), N))\n",
    "        \n",
    "mylst = [1,2,3]\n",
    "N = 4\n",
    "a = 'increasing'\n",
    "print(a.center(50,'-'))\n",
    "\n",
    "aVandermonde(np.array(mylst),N)\n",
    "\n",
    "b= 'decreasing'\n",
    "print(b.center(50,'-'))\n",
    "aVandermonde(np.array(mylst),N, increasing= False)"
   ]
  },
  {
   "cell_type": "markdown",
   "metadata": {},
   "source": [
    "Problem Statement 2: Given a sequence of n values x1, x2, ..., xn and a window size k>0, the k-th moving average of the given sequence is defined as follows: The moving average sequence has n-k+1 elements as shown below. The moving averages with k=4 of a ten-value sequence (n=10) is shown below\n",
    "\n",
    "i 1 2 3 4 5 6 7 8 9 10\n",
    "\n",
    "===== == == == == == == == == == ==\n",
    "\n",
    "Input 10 20 30 40 50 60 70 80 90 100\n",
    "\n",
    "y1 25 = (10+20+30+40)/4\n",
    "\n",
    "y2 35 = (20+30+40+50)/4\n",
    "\n",
    "y3 45 = (30+40+50+60)/4\n",
    "\n",
    "y4 55 = (40+50+60+70)/4\n",
    "\n",
    "y5 65 = (50+60+70+80)/4\n",
    "\n",
    "y6 75 = (60+70+80+90)/4\n",
    "\n",
    "y7 85 = (70+80+90+100)/4\n",
    "\n",
    "Thus, the moving average sequence has n-k+1=10-4+1=7 values.\n",
    "\n",
    "Question: Write a function to find moving average in an array over a window:\n",
    "Test it over [3, 5, 7, 2, 8, 10, 11, 65, 72, 81, 99, 100, 150] and window of 3."
   ]
  },
  {
   "cell_type": "code",
   "execution_count": 44,
   "metadata": {},
   "outputs": [
    {
     "name": "stdout",
     "output_type": "stream",
     "text": [
      "Thus, the moving average sequence has a values.\n",
      "y1 = 5.0\n",
      "y2 = 9.666666666666666\n",
      "y3 = 15.333333333333334\n",
      "y4 = 22.0\n",
      "y5 = 31.666666666666668\n",
      "y6 = 60.333333333333336\n",
      "y7 = 109.66666666666667\n",
      "y8 = 182.33333333333334\n",
      "y9 = 266.3333333333333\n",
      "y10 = 359.6666666666667\n",
      "y11 = 476.0\n"
     ]
    }
   ],
   "source": [
    "import numpy as np\n",
    "def moving_average(n,k):\n",
    "    s=0\n",
    "    for i in range(a):\n",
    "        for j in range(i,i+k):\n",
    "            s+=n[j]\n",
    "            #print(seq[j],end=\"\")\n",
    "        print(f'y{i+1} = ',end='')\n",
    "        print(s/k)\n",
    "        \n",
    "seq = [3, 5, 7, 2, 8, 10, 11, 65, 72, 81, 99, 100, 150] \n",
    "n=np.array(seq)\n",
    "k=3\n",
    "a=len(seq)-k+1\n",
    "print(f'Thus, the moving average sequence has a values.')\n",
    "moving_average(n,k)"
   ]
  },
  {
   "cell_type": "code",
   "execution_count": null,
   "metadata": {},
   "outputs": [],
   "source": []
  }
 ],
 "metadata": {
  "kernelspec": {
   "display_name": "Python 3",
   "language": "python",
   "name": "python3"
  },
  "language_info": {
   "codemirror_mode": {
    "name": "ipython",
    "version": 3
   },
   "file_extension": ".py",
   "mimetype": "text/x-python",
   "name": "python",
   "nbconvert_exporter": "python",
   "pygments_lexer": "ipython3",
   "version": "3.7.6"
  }
 },
 "nbformat": 4,
 "nbformat_minor": 4
}
